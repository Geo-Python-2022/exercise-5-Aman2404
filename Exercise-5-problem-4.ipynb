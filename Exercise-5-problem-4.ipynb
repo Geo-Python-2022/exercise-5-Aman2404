{
 "cells": [
  {
   "attachments": {},
   "cell_type": "markdown",
   "metadata": {
    "deletable": false,
    "editable": false,
    "nbgrader": {
     "cell_type": "markdown",
     "checksum": "7d1d00139390674ebfa2ab4b93f177c2",
     "grade": false,
     "grade_id": "cell-8f87d3f057af49f1",
     "locked": true,
     "schema_version": 3,
     "solution": false,
     "task": false
    }
   },
   "source": [
    "## Problem 4 (*optional*) - Parsing daily temperatures\n",
    "\n",
    "**This is an optional task for those who want more practice.**\n",
    "\n",
    "This problem is more challenging as we provide only minimal instructions for completing the given tasks. You will need to search through the pandas documentation (and other resources) for help. We will cover data aggregation in more detail during Lesson 6, so this is a good opportunity to get a head start for next week!\n",
    "\n",
    "In this problem, the aim is to aggregate the hourly temperature data for Helsinki Kumpula and Rovaniemi weather stations to the daily level. Currently, there are (at most) 3 measurements per hour in the data as you can see from the `YR--MODAHRMN` column (Year-Month-Day-Hour-Minute in Greenwich Mean Time (GMT):\n",
    "\n",
    "```\n",
    "    USAF  YR--MODAHRMN  TEMP  MAX  MIN  Celsius\n",
    "0  28450  201705010000  31.0  NaN  NaN       -1\n",
    "1  28450  201705010020  30.0  NaN  NaN       -1\n",
    "2  28450  201705010050  30.0  NaN  NaN       -1\n",
    "3  28450  201705010100  31.0  NaN  NaN       -1\n",
    "4  28450  201705010120  30.0  NaN  NaN       -1\n",
    "```\n",
    "\n",
    "The output should contain mean, max, and min Celsius temperatures for each day (for example, one mean temperature value for the 1st of May and so on).\n",
    "\n",
    "### What to do\n",
    "\n",
    "- Your task is to summarize the information for each day by aggregating (grouping) the DataFrame.\n",
    "- The output should be a new DataFrame where you have calculated the mean, max, and min Celsius temperatures for each day separately based on hourly values.\n",
    "- Repeat the task for the two data sets you created in Problem 2 (May-August temperatures from Rovaniemi and Kumpula).\n",
    "\n",
    "Don't forget to:\n",
    "\n",
    "- Include useful comments in your code\n",
    "- Push your solution to GitHub\n",
    "\n",
    "### Hint\n",
    "\n",
    "You can find help from the [Pandas Official documentation](https://pandas.pydata.org/pandas-docs/stable/) and Google. Don't hestiate to ask for tips in Slack!\n"
   ]
  },
  {
   "cell_type": "code",
   "execution_count": 24,
   "metadata": {},
   "outputs": [],
   "source": [
    "\n",
    "import pandas as pd"
   ]
  },
  {
   "cell_type": "code",
   "execution_count": 27,
   "metadata": {},
   "outputs": [],
   "source": [
    "# load both dataframe\n",
    "kumpula_df = pd.read_csv('data/Kumpula_temps_May_Aug_2017.csv')\n",
    "\n",
    "rovaniemi_df= pd.read_csv('data/Rovaniemi_temps_May_Aug_2017.csv')"
   ]
  },
  {
   "cell_type": "code",
   "execution_count": 42,
   "metadata": {},
   "outputs": [],
   "source": [
    "# convert YR--MODAHRMN to datetime format\n",
    "kumpula_df['YR--MODAHRMN'] = pd.to_datetime(kumpula_df['YR--MODAHRMN'], format='%Y%m%d%H%M')\n",
    "\n",
    "rovaniemi_df['YR--MODAHRMN'] = pd.to_datetime(rovaniemi_df['YR--MODAHRMN'], format='%Y%m%d%H%M')"
   ]
  },
  {
   "cell_type": "code",
   "execution_count": 50,
   "metadata": {},
   "outputs": [],
   "source": [
    "# extract the date and time and hour components into separate columns\n",
    "kumpula_df['date'] = kumpula_df['YR--MODAHRMN'].dt.date\n",
    "kumpula_df['time'] = kumpula_df['YR--MODAHRMN'].dt.time\n",
    "kumpula_df['hour'] = kumpula_df['YR--MODAHRMN'].dt.hour\n",
    "\n",
    "rovaniemi_df['date'] = rovaniemi_df['YR--MODAHRMN'].dt.date\n",
    "rovaniemi_df['time'] = rovaniemi_df['YR--MODAHRMN'].dt.time\n",
    "rovaniemi_df['hour'] = rovaniemi_df['YR--MODAHRMN'].dt.hour\n"
   ]
  },
  {
   "cell_type": "code",
   "execution_count": 56,
   "metadata": {},
   "outputs": [
    {
     "name": "stdout",
     "output_type": "stream",
     "text": [
      "Kumpula daily temperatures:\n",
      "                 mean   max   min\n",
      "date       hour                  \n",
      "2017-05-01 0     2.78  2.78  2.78\n",
      "           1     2.78  2.78  2.78\n",
      "           2     2.78  2.78  2.78\n",
      "           3     2.78  2.78  2.78\n",
      "           4     3.89  3.89  3.89\n",
      "           5     5.00  5.00  5.00\n",
      "           6     6.67  6.67  6.67\n",
      "           7     7.22  7.22  7.22\n",
      "Rovaniemi daily temperatures:\n",
      "                     mean   max   min\n",
      "date       hour                      \n",
      "2017-05-01 0    -0.926667 -0.56 -1.11\n",
      "           1    -0.926667 -0.56 -1.11\n",
      "           2    -0.926667 -0.56 -1.11\n",
      "           3    -0.926667 -0.56 -1.11\n",
      "           4    -0.926667 -0.56 -1.11\n",
      "           5    -0.926667 -0.56 -1.11\n",
      "           6    -0.926667 -0.56 -1.11\n",
      "           7    -0.740000  0.00 -1.11\n"
     ]
    }
   ],
   "source": [
    "# Group the data by date\n",
    "kumpula_daily = kumpula_df.groupby(['date','hour'])['Celsius'].agg(['mean', 'max', 'min'])\n",
    "rovaniemi_daily = rovaniemi_df.groupby(['date','hour'])['Celsius'].agg(['mean', 'max', 'min'])\n",
    "\n",
    "# Print the results\n",
    "print(\"Kumpula daily temperatures:\")\n",
    "print(kumpula_daily.head(8))\n",
    "\n",
    "print(\"Rovaniemi daily temperatures:\")\n",
    "print(rovaniemi_daily.head(8))"
   ]
  }
 ],
 "metadata": {
  "anaconda-cloud": {},
  "kernelspec": {
   "display_name": "yolox",
   "language": "python",
   "name": "yolox"
  },
  "language_info": {
   "codemirror_mode": {
    "name": "ipython",
    "version": 3
   },
   "file_extension": ".py",
   "mimetype": "text/x-python",
   "name": "python",
   "nbconvert_exporter": "python",
   "pygments_lexer": "ipython3",
   "version": "3.9.13"
  }
 },
 "nbformat": 4,
 "nbformat_minor": 2
}
